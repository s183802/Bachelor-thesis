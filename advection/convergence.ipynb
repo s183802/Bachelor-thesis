{
 "cells": [
  {
   "cell_type": "code",
   "execution_count": 1,
   "metadata": {
    "tags": [
     "remove-cell"
    ]
   },
   "outputs": [],
   "source": [
    "import json\n",
    "from netCDF4 import Dataset\n",
    "import matplotlib.pyplot as plt\n",
    "#import matplotlib.animation as animation\n",
    "import numpy as np\n",
    "import simplesimdb as simplesim # this one is our own database manager\n",
    "import subprocess # to capture errors from the simulations\n",
    "import itertools\n",
    "import pandas as pd\n",
    "pd.set_option('display.float_format', lambda x: '%.2e' % x)"
   ]
  },
  {
   "cell_type": "code",
   "execution_count": 2,
   "metadata": {
    "tags": [
     "remove-cell"
    ]
   },
   "outputs": [],
   "source": [
    "m = simplesim.Manager(directory='convergence', executable='./execute.sh', filetype='nc')\n",
    "content = m.table()"
   ]
  },
  {
   "cell_type": "code",
   "execution_count": 3,
   "metadata": {
    "tags": [
     "remove-cell"
    ]
   },
   "outputs": [],
   "source": [
    "###### THE RED BUTTON\n",
    "#m.delete_all()"
   ]
  },
  {
   "cell_type": "code",
   "execution_count": 4,
   "metadata": {
    "tags": [
     "remove-cell"
    ]
   },
   "outputs": [],
   "source": [
    "n2v={\n",
    "    1:[144,1e-2],\n",
    "    3:[48, 2e-3],\n",
    "    4:[36, 2e-3],\n",
    "    5:[24, 1e-3],\n",
    "    7:[20, 5e-4]\n",
    "}\n",
    "endtime = 1\n",
    "maxout = 5\n",
    "reg2reg = {\"none\" : {\"type\" : \"none\"},\n",
    "           \"modal\" : {\"type\" : \"modal\", \"alpha\" : 36, \"order\" : 8, \"eta_c\" : 0.5},\n",
    "          \"viscous\": {\"type\" : \"viscosity\", \"order\" : 1,\n",
    "                      \"nu\" : 1e-3, \"direction\" : \"forward\"},\n",
    "          \"hyperviscous\" : {\"type\": \"viscosity\", \"order\" : 2,\n",
    "                            \"nu\" : 5e-4, \"direction\" : \"forward\"}\n",
    "          }"
   ]
  },
  {
   "cell_type": "code",
   "execution_count": 5,
   "metadata": {
    "tags": [
     "remove-cell"
    ]
   },
   "outputs": [],
   "source": [
    "def generate_standard_input( n, multiple, multiplication, advection, regularization) :\n",
    "    itstp=(endtime/maxout/n2v[n][1])*multiple\n",
    "    if not itstp.is_integer() :\n",
    "        print(\"Warning: itstp is not an integer!\")\n",
    "    inputfile={\n",
    "        \"grid\":\n",
    "        {   \n",
    "            \"type\": \"Cartesian2d\",\n",
    "            \"n\"  : n,\n",
    "            \"Nx\" : int(multiple*n2v[n][0]),\n",
    "            \"Ny\" : int(multiple*n2v[n][0]),\n",
    "            \"x\": [-1.0, 1.0],\n",
    "            \"y\": [-1.0, 1.0],\n",
    "            \"bc\" : [\"DIR\", \"PER\"]\n",
    "        },\n",
    "        \"timestepper\":\n",
    "        {   \n",
    "            \"type\": \"FilteredExplicitMultistep\",\n",
    "            \"tableau\": \"eBDF-3-3\",\n",
    "            \"dt\" : n2v[n][1]/multiple\n",
    "        },\n",
    "        \"regularization\":  reg2reg[regularization],\n",
    "        \"output\":\n",
    "        {   \n",
    "            \"type\": \"netcdf\",\n",
    "            \"itstp\"   : int(itstp),\n",
    "            \"maxout\"  : int(5)\n",
    "        },\n",
    "        \"advection\":\n",
    "        {   \n",
    "            \"multiplication\": multiplication,\n",
    "            \"type\": advection\n",
    "        },\n",
    "        \"elliptic\":\n",
    "        {   \n",
    "            \"type\" : \"multigrid\",\n",
    "            \"stages\": 3,\n",
    "            \"eps_pol\" : [1e-6,10.0,10.0],\n",
    "            \"direction\" : \"forward\"\n",
    "        },\n",
    "        \"init\":{ \"type\": \"mms\", \"sigma\": 0.2, \"velocity\": 1.0}\n",
    "    }\n",
    "    if regularization == \"viscous\" or regularization == \"hyperviscous\" :\n",
    "        inputfile[\"timestepper\"][\"type\"] = \"ImExMultistep\"\n",
    "        inputfile[\"timestepper\"][\"tableau\"] = \"ImEx-BDF-3-3\"\n",
    "        inputfile[\"timestepper\"][\"eps_time\"] = 1e-9\n",
    "    return inputfile"
   ]
  },
  {
   "cell_type": "code",
   "execution_count": 6,
   "metadata": {
    "tags": [
     "remove-cell"
    ]
   },
   "outputs": [
    {
     "name": "stdout",
     "output_type": "stream",
     "text": [
      "(1, 0.5)\n",
      "(1, 1)\n",
      "(1, 2)\n",
      "(1, 4)\n",
      "(3, 0.5)\n",
      "(3, 1)\n",
      "(3, 2)\n",
      "(3, 4)\n",
      "(5, 0.5)\n",
      "(5, 1)\n",
      "(5, 2)\n",
      "(5, 4)\n"
     ]
    }
   ],
   "source": [
    "v_n=[1,3,5]\n",
    "v_multiple=[0.5,1,2,4]\n",
    "for t in itertools.product( v_n, v_multiple) :\n",
    "    inputfile = generate_standard_input( \n",
    "        t[0], t[1], \"pointwise\", \"upwind-advection\", \"none\")   \n",
    "    try:\n",
    "        print(t)\n",
    "        m.create(inputfile)\n",
    "    # the simulation may fail \n",
    "    except subprocess.CalledProcessError as e:\n",
    "        print( e.stderr)\n",
    "        break"
   ]
  },
  {
   "cell_type": "code",
   "execution_count": 7,
   "metadata": {
    "tags": [
     "remove-cell"
    ]
   },
   "outputs": [],
   "source": [
    "# Construct the Gaussian weights on our grids\n",
    "def gauss_weights( js) :\n",
    "    n = js[\"n\"]\n",
    "    Nx = js[\"Nx\"]\n",
    "    Ny = js[\"Ny\"]\n",
    "    lx = js[\"x\"][1]-js[\"x\"][0]\n",
    "    ly = js[\"y\"][1]-js[\"y\"][0]\n",
    "    hx = lx/Nx\n",
    "    hy = ly/Ny\n",
    "    (x,w) = np.polynomial.legendre.leggauss(js[\"n\"])\n",
    "    weights1dX = np.tile( w, js[\"Nx\"])\n",
    "    weights1dY = np.tile( w, js[\"Ny\"])\n",
    "    return np.reshape( np.kron( weights1dY, weights1dX)*hy/2.0*hx/2.0 , (js[\"n\"]*js[\"Ny\"], js[\"n\"]*js[\"Nx\"]))"
   ]
  },
  {
   "cell_type": "code",
   "execution_count": 8,
   "metadata": {
    "tags": [
     "remove-cell"
    ]
   },
   "outputs": [],
   "source": [
    "last_out = list()\n",
    "content = m.table()\n",
    "for f in content:\n",
    "    ncin = Dataset( m.select(f), 'r', format=\"NETCDF4\")\n",
    "    # time, xc, yc, vorticity, potential,\n",
    "    # error(t), time_per_step(t), energy_1d(t), enstrophy_1d(t), vorticity_1d(t)\n",
    "    inputfile = json.loads(ncin.inputfile)\n",
    "    max_idx = ncin.variables[\"time\"].shape[0]-1\n",
    "    vo = ncin[\"vorticity\"][:,:,:]\n",
    "    weights = gauss_weights( f[\"grid\"])\n",
    "    tps = ncin[\"time_per_step\"][:]\n",
    "    ene = ncin[\"energy_1d\"][:]\n",
    "    ens = ncin[\"enstrophy_1d\"][:]\n",
    "    vor = ncin[\"vorticity_1d\"][:]\n",
    "\n",
    "    vor20 = 1./2.*np.sum( vo[0,:,:]**2*weights )\n",
    "    vor21 = 1./2.*np.sum( vo[max_idx,:,:]**2*weights )\n",
    "    vor40 = 1./4.*np.sum( vo[0,:,:]**4*weights )\n",
    "    vor41 = 1./4.*np.sum( vo[max_idx,:,:]**4*weights )\n",
    "    vor60 = 1./6.*np.sum( vo[0,:,:]**6*weights )\n",
    "    vor61 = 1./6.*np.sum( vo[max_idx,:,:]**6*weights )\n",
    "    e = dict()\n",
    "    e[\"id\"] = m.hashinput(f)\n",
    "    #print( e[\"id\"])\n",
    "    e[\"n\"] = inputfile[\"grid\"][\"n\"]\n",
    "    e[\"N\"] = inputfile[\"grid\"][\"Nx\"]\n",
    "    e[\"error\"] = float(ncin[\"error\"][max_idx])\n",
    "    e[\"vorticity2\"] = ( vor21-vor20)/vor20 # same as enstrophy\n",
    "    e[\"vorticity4\"] = ( vor41-vor40)/vor40 \n",
    "    e[\"vorticity6\"] = ( vor61-vor60)/vor60 \n",
    "    e[\"enstrophy\"] = (ens[max_idx]-ens[0])/ens[0]\n",
    "    e[\"energy\"] = (ene[max_idx]-ene[0])/ene[0]\n",
    "    e[\"vorticity\"] = (vor[max_idx]-vor[0])\n",
    "\n",
    "    last_out.append(e)\n"
   ]
  },
  {
   "cell_type": "code",
   "execution_count": 9,
   "metadata": {
    "tags": [
     "remove-cell"
    ]
   },
   "outputs": [],
   "source": [
    "#define conversion function \n",
    "def orderToString(x): \n",
    "    if np.isnan(x) : return 'n/a'\n",
    "    return'%.2f'% x\n",
    "\n",
    "def errorToString(x):\n",
    "    return '%.2e' % x"
   ]
  },
  {
   "cell_type": "code",
   "execution_count": 10,
   "metadata": {
    "tags": [
     "remove-cell"
    ]
   },
   "outputs": [],
   "source": [
    "def generate_table( n):\n",
    "    df = pd.json_normalize( last_out)\n",
    "    df.set_index( \"id\", inplace=True)\n",
    "    df = df.loc [ df[\"n\"]==n]\n",
    "    df = df.sort_values( by=['N']) # sort\n",
    "    names = [\"error\", \"vorticity2\", \"vorticity4\", \"vorticity6\", \"enstrophy\", \"energy\", \"vorticity\"]\n",
    "    for name in names:\n",
    "        df.insert(df.columns.get_loc(name)+1,column=\"order.\"+name, value=df.loc[:,name])\n",
    "        df[\"order.\"+name] = (np.log ( abs(df[\"order.\"+name]/ df[\"order.\"+name].shift(1)))/\n",
    "            np.log( df[\"N\"].shift(1)/df[\"N\"]))\n",
    "    df.set_index(['n','N'], inplace=True)\n",
    "    df_red = df[[ \"error\", \"order.error\", \"vorticity\", \"order.vorticity\", \"enstrophy\",\n",
    "                 \"order.enstrophy\", \"energy\", \"order.energy\"]]#\n",
    "    headers = [\"solution\",\n",
    "               \"vorticity\",\n",
    "               \"enstrophy\",\n",
    "               \"energy\"]\n",
    "    df_red.columns=pd.MultiIndex.from_product([headers,[\"error\", \"order\"] ])\n",
    "    for header in headers :  \n",
    "        df_red.loc[:, (header, \"error\")]=df_red.loc[:,(header, \"error\")].apply( errorToString)\n",
    "        df_red.loc[:, (header, \"order\")]=df_red.loc[:,(header, \"order\")].apply( orderToString)\n",
    "    return df_red"
   ]
  },
  {
   "cell_type": "code",
   "execution_count": 11,
   "metadata": {
    "tags": [
     "remove-cell"
    ]
   },
   "outputs": [
    {
     "name": "stderr",
     "output_type": "stream",
     "text": [
      "/home/matthias/anaconda3/lib/python3.8/site-packages/pandas/core/indexing.py:966: SettingWithCopyWarning: \n",
      "A value is trying to be set on a copy of a slice from a DataFrame.\n",
      "Try using .loc[row_indexer,col_indexer] = value instead\n",
      "\n",
      "See the caveats in the documentation: https://pandas.pydata.org/pandas-docs/stable/user_guide/indexing.html#returning-a-view-versus-a-copy\n",
      "  self.obj[item] = s\n"
     ]
    }
   ],
   "source": [
    "df1 = generate_table(1)\n",
    "df3 = generate_table(3)\n",
    "df5 = generate_table(5)"
   ]
  },
  {
   "cell_type": "markdown",
   "metadata": {},
   "source": [
    "## Convergence of upwind scheme"
   ]
  },
  {
   "cell_type": "markdown",
   "metadata": {},
   "source": [
    "First, we test the upwind-advection scheme with pointwise multiplication"
   ]
  },
  {
   "cell_type": "code",
   "execution_count": 12,
   "metadata": {
    "tags": [
     "remove-input"
    ]
   },
   "outputs": [
    {
     "data": {
      "text/html": [
       "<div>\n",
       "<style scoped>\n",
       "    .dataframe tbody tr th:only-of-type {\n",
       "        vertical-align: middle;\n",
       "    }\n",
       "\n",
       "    .dataframe tbody tr th {\n",
       "        vertical-align: top;\n",
       "    }\n",
       "\n",
       "    .dataframe thead tr th {\n",
       "        text-align: left;\n",
       "    }\n",
       "\n",
       "    .dataframe thead tr:last-of-type th {\n",
       "        text-align: right;\n",
       "    }\n",
       "</style>\n",
       "<table border=\"1\" class=\"dataframe\">\n",
       "  <thead>\n",
       "    <tr>\n",
       "      <th></th>\n",
       "      <th></th>\n",
       "      <th colspan=\"2\" halign=\"left\">solution</th>\n",
       "      <th colspan=\"2\" halign=\"left\">vorticity</th>\n",
       "      <th colspan=\"2\" halign=\"left\">enstrophy</th>\n",
       "      <th colspan=\"2\" halign=\"left\">energy</th>\n",
       "    </tr>\n",
       "    <tr>\n",
       "      <th></th>\n",
       "      <th></th>\n",
       "      <th>error</th>\n",
       "      <th>order</th>\n",
       "      <th>error</th>\n",
       "      <th>order</th>\n",
       "      <th>error</th>\n",
       "      <th>order</th>\n",
       "      <th>error</th>\n",
       "      <th>order</th>\n",
       "    </tr>\n",
       "    <tr>\n",
       "      <th>n</th>\n",
       "      <th>N</th>\n",
       "      <th></th>\n",
       "      <th></th>\n",
       "      <th></th>\n",
       "      <th></th>\n",
       "      <th></th>\n",
       "      <th></th>\n",
       "      <th></th>\n",
       "      <th></th>\n",
       "    </tr>\n",
       "  </thead>\n",
       "  <tbody>\n",
       "    <tr>\n",
       "      <th rowspan=\"4\" valign=\"top\">1</th>\n",
       "      <th>72</th>\n",
       "      <td>3.11e-01</td>\n",
       "      <td>n/a</td>\n",
       "      <td>-4.62e-06</td>\n",
       "      <td>n/a</td>\n",
       "      <td>-6.51e-03</td>\n",
       "      <td>n/a</td>\n",
       "      <td>7.32e-03</td>\n",
       "      <td>n/a</td>\n",
       "    </tr>\n",
       "    <tr>\n",
       "      <th>144</th>\n",
       "      <td>1.74e-01</td>\n",
       "      <td>0.84</td>\n",
       "      <td>-5.87e-07</td>\n",
       "      <td>2.98</td>\n",
       "      <td>-2.67e-02</td>\n",
       "      <td>-2.03</td>\n",
       "      <td>-2.38e-02</td>\n",
       "      <td>-1.70</td>\n",
       "    </tr>\n",
       "    <tr>\n",
       "      <th>288</th>\n",
       "      <td>9.15e-02</td>\n",
       "      <td>0.93</td>\n",
       "      <td>-7.70e-08</td>\n",
       "      <td>2.93</td>\n",
       "      <td>-2.12e-02</td>\n",
       "      <td>0.33</td>\n",
       "      <td>-2.03e-02</td>\n",
       "      <td>0.23</td>\n",
       "    </tr>\n",
       "    <tr>\n",
       "      <th>576</th>\n",
       "      <td>4.68e-02</td>\n",
       "      <td>0.97</td>\n",
       "      <td>-7.49e-09</td>\n",
       "      <td>3.36</td>\n",
       "      <td>-1.28e-02</td>\n",
       "      <td>0.72</td>\n",
       "      <td>-1.25e-02</td>\n",
       "      <td>0.70</td>\n",
       "    </tr>\n",
       "  </tbody>\n",
       "</table>\n",
       "</div>"
      ],
      "text/plain": [
       "       solution        vorticity        enstrophy            energy       \n",
       "          error order      error order      error  order      error  order\n",
       "n N                                                                       \n",
       "1 72   3.11e-01   n/a  -4.62e-06   n/a  -6.51e-03    n/a   7.32e-03    n/a\n",
       "  144  1.74e-01  0.84  -5.87e-07  2.98  -2.67e-02  -2.03  -2.38e-02  -1.70\n",
       "  288  9.15e-02  0.93  -7.70e-08  2.93  -2.12e-02   0.33  -2.03e-02   0.23\n",
       "  576  4.68e-02  0.97  -7.49e-09  3.36  -1.28e-02   0.72  -1.25e-02   0.70"
      ]
     },
     "execution_count": 12,
     "metadata": {},
     "output_type": "execute_result"
    }
   ],
   "source": [
    "df1"
   ]
  },
  {
   "cell_type": "code",
   "execution_count": 13,
   "metadata": {
    "tags": [
     "remove-input"
    ]
   },
   "outputs": [
    {
     "data": {
      "text/html": [
       "<div>\n",
       "<style scoped>\n",
       "    .dataframe tbody tr th:only-of-type {\n",
       "        vertical-align: middle;\n",
       "    }\n",
       "\n",
       "    .dataframe tbody tr th {\n",
       "        vertical-align: top;\n",
       "    }\n",
       "\n",
       "    .dataframe thead tr th {\n",
       "        text-align: left;\n",
       "    }\n",
       "\n",
       "    .dataframe thead tr:last-of-type th {\n",
       "        text-align: right;\n",
       "    }\n",
       "</style>\n",
       "<table border=\"1\" class=\"dataframe\">\n",
       "  <thead>\n",
       "    <tr>\n",
       "      <th></th>\n",
       "      <th></th>\n",
       "      <th colspan=\"2\" halign=\"left\">solution</th>\n",
       "      <th colspan=\"2\" halign=\"left\">vorticity</th>\n",
       "      <th colspan=\"2\" halign=\"left\">enstrophy</th>\n",
       "      <th colspan=\"2\" halign=\"left\">energy</th>\n",
       "    </tr>\n",
       "    <tr>\n",
       "      <th></th>\n",
       "      <th></th>\n",
       "      <th>error</th>\n",
       "      <th>order</th>\n",
       "      <th>error</th>\n",
       "      <th>order</th>\n",
       "      <th>error</th>\n",
       "      <th>order</th>\n",
       "      <th>error</th>\n",
       "      <th>order</th>\n",
       "    </tr>\n",
       "    <tr>\n",
       "      <th>n</th>\n",
       "      <th>N</th>\n",
       "      <th></th>\n",
       "      <th></th>\n",
       "      <th></th>\n",
       "      <th></th>\n",
       "      <th></th>\n",
       "      <th></th>\n",
       "      <th></th>\n",
       "      <th></th>\n",
       "    </tr>\n",
       "  </thead>\n",
       "  <tbody>\n",
       "    <tr>\n",
       "      <th rowspan=\"4\" valign=\"top\">3</th>\n",
       "      <th>24</th>\n",
       "      <td>8.96e-03</td>\n",
       "      <td>n/a</td>\n",
       "      <td>1.72e-04</td>\n",
       "      <td>n/a</td>\n",
       "      <td>-2.52e-04</td>\n",
       "      <td>n/a</td>\n",
       "      <td>-1.83e-04</td>\n",
       "      <td>n/a</td>\n",
       "    </tr>\n",
       "    <tr>\n",
       "      <th>48</th>\n",
       "      <td>1.63e-03</td>\n",
       "      <td>2.46</td>\n",
       "      <td>4.06e-06</td>\n",
       "      <td>5.41</td>\n",
       "      <td>-9.49e-06</td>\n",
       "      <td>4.73</td>\n",
       "      <td>-7.12e-06</td>\n",
       "      <td>4.68</td>\n",
       "    </tr>\n",
       "    <tr>\n",
       "      <th>96</th>\n",
       "      <td>2.14e-04</td>\n",
       "      <td>2.93</td>\n",
       "      <td>8.39e-08</td>\n",
       "      <td>5.59</td>\n",
       "      <td>-4.13e-07</td>\n",
       "      <td>4.52</td>\n",
       "      <td>-2.59e-07</td>\n",
       "      <td>4.78</td>\n",
       "    </tr>\n",
       "    <tr>\n",
       "      <th>192</th>\n",
       "      <td>2.53e-05</td>\n",
       "      <td>3.08</td>\n",
       "      <td>1.65e-09</td>\n",
       "      <td>5.67</td>\n",
       "      <td>-7.37e-08</td>\n",
       "      <td>2.49</td>\n",
       "      <td>5.76e-09</td>\n",
       "      <td>5.49</td>\n",
       "    </tr>\n",
       "  </tbody>\n",
       "</table>\n",
       "</div>"
      ],
      "text/plain": [
       "       solution       vorticity        enstrophy           energy      \n",
       "          error order     error order      error order      error order\n",
       "n N                                                                    \n",
       "3 24   8.96e-03   n/a  1.72e-04   n/a  -2.52e-04   n/a  -1.83e-04   n/a\n",
       "  48   1.63e-03  2.46  4.06e-06  5.41  -9.49e-06  4.73  -7.12e-06  4.68\n",
       "  96   2.14e-04  2.93  8.39e-08  5.59  -4.13e-07  4.52  -2.59e-07  4.78\n",
       "  192  2.53e-05  3.08  1.65e-09  5.67  -7.37e-08  2.49   5.76e-09  5.49"
      ]
     },
     "execution_count": 13,
     "metadata": {},
     "output_type": "execute_result"
    }
   ],
   "source": [
    "df3"
   ]
  },
  {
   "cell_type": "code",
   "execution_count": 14,
   "metadata": {
    "tags": [
     "remove-input"
    ]
   },
   "outputs": [
    {
     "data": {
      "text/html": [
       "<div>\n",
       "<style scoped>\n",
       "    .dataframe tbody tr th:only-of-type {\n",
       "        vertical-align: middle;\n",
       "    }\n",
       "\n",
       "    .dataframe tbody tr th {\n",
       "        vertical-align: top;\n",
       "    }\n",
       "\n",
       "    .dataframe thead tr th {\n",
       "        text-align: left;\n",
       "    }\n",
       "\n",
       "    .dataframe thead tr:last-of-type th {\n",
       "        text-align: right;\n",
       "    }\n",
       "</style>\n",
       "<table border=\"1\" class=\"dataframe\">\n",
       "  <thead>\n",
       "    <tr>\n",
       "      <th></th>\n",
       "      <th></th>\n",
       "      <th colspan=\"2\" halign=\"left\">solution</th>\n",
       "      <th colspan=\"2\" halign=\"left\">vorticity</th>\n",
       "      <th colspan=\"2\" halign=\"left\">enstrophy</th>\n",
       "      <th colspan=\"2\" halign=\"left\">energy</th>\n",
       "    </tr>\n",
       "    <tr>\n",
       "      <th></th>\n",
       "      <th></th>\n",
       "      <th>error</th>\n",
       "      <th>order</th>\n",
       "      <th>error</th>\n",
       "      <th>order</th>\n",
       "      <th>error</th>\n",
       "      <th>order</th>\n",
       "      <th>error</th>\n",
       "      <th>order</th>\n",
       "    </tr>\n",
       "    <tr>\n",
       "      <th>n</th>\n",
       "      <th>N</th>\n",
       "      <th></th>\n",
       "      <th></th>\n",
       "      <th></th>\n",
       "      <th></th>\n",
       "      <th></th>\n",
       "      <th></th>\n",
       "      <th></th>\n",
       "      <th></th>\n",
       "    </tr>\n",
       "  </thead>\n",
       "  <tbody>\n",
       "    <tr>\n",
       "      <th rowspan=\"4\" valign=\"top\">5</th>\n",
       "      <th>12</th>\n",
       "      <td>1.12e-03</td>\n",
       "      <td>n/a</td>\n",
       "      <td>3.09e-07</td>\n",
       "      <td>n/a</td>\n",
       "      <td>3.52e-06</td>\n",
       "      <td>n/a</td>\n",
       "      <td>3.23e-06</td>\n",
       "      <td>n/a</td>\n",
       "    </tr>\n",
       "    <tr>\n",
       "      <th>24</th>\n",
       "      <td>6.86e-05</td>\n",
       "      <td>4.03</td>\n",
       "      <td>8.42e-09</td>\n",
       "      <td>5.20</td>\n",
       "      <td>-1.69e-07</td>\n",
       "      <td>4.38</td>\n",
       "      <td>-3.52e-08</td>\n",
       "      <td>6.52</td>\n",
       "    </tr>\n",
       "    <tr>\n",
       "      <th>48</th>\n",
       "      <td>2.70e-06</td>\n",
       "      <td>4.66</td>\n",
       "      <td>1.19e-11</td>\n",
       "      <td>9.46</td>\n",
       "      <td>-7.55e-08</td>\n",
       "      <td>1.16</td>\n",
       "      <td>9.19e-09</td>\n",
       "      <td>1.94</td>\n",
       "    </tr>\n",
       "    <tr>\n",
       "      <th>96</th>\n",
       "      <td>1.02e-07</td>\n",
       "      <td>4.73</td>\n",
       "      <td>1.39e-14</td>\n",
       "      <td>9.74</td>\n",
       "      <td>-5.73e-08</td>\n",
       "      <td>0.40</td>\n",
       "      <td>1.10e-08</td>\n",
       "      <td>-0.26</td>\n",
       "    </tr>\n",
       "  </tbody>\n",
       "</table>\n",
       "</div>"
      ],
      "text/plain": [
       "      solution       vorticity        enstrophy           energy       \n",
       "         error order     error order      error order      error  order\n",
       "n N                                                                    \n",
       "5 12  1.12e-03   n/a  3.09e-07   n/a   3.52e-06   n/a   3.23e-06    n/a\n",
       "  24  6.86e-05  4.03  8.42e-09  5.20  -1.69e-07  4.38  -3.52e-08   6.52\n",
       "  48  2.70e-06  4.66  1.19e-11  9.46  -7.55e-08  1.16   9.19e-09   1.94\n",
       "  96  1.02e-07  4.73  1.39e-14  9.74  -5.73e-08  0.40   1.10e-08  -0.26"
      ]
     },
     "execution_count": 14,
     "metadata": {},
     "output_type": "execute_result"
    }
   ],
   "source": [
    "df5"
   ]
  },
  {
   "cell_type": "markdown",
   "metadata": {},
   "source": [
    "In the last table we might see the effects of the accuracy of the third order time-stepper"
   ]
  },
  {
   "cell_type": "code",
   "execution_count": null,
   "metadata": {},
   "outputs": [],
   "source": []
  }
 ],
 "metadata": {
  "celltoolbar": "Tags",
  "kernelspec": {
   "display_name": "Python 3",
   "language": "python",
   "name": "python3"
  },
  "language_info": {
   "codemirror_mode": {
    "name": "ipython",
    "version": 3
   },
   "file_extension": ".py",
   "mimetype": "text/x-python",
   "name": "python",
   "nbconvert_exporter": "python",
   "pygments_lexer": "ipython3",
   "version": "3.8.3"
  }
 },
 "nbformat": 4,
 "nbformat_minor": 4
}
